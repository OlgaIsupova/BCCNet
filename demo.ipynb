{
 "cells": [
  {
   "cell_type": "markdown",
   "metadata": {},
   "source": [
    "# BCCNet demo on MNIST"
   ]
  },
  {
   "cell_type": "markdown",
   "metadata": {},
   "source": [
    "This script demonstrates BCCNet in action on classification of MNIST\n",
    "\n",
    "* first generates synthetic crowdsourced labels for MNIST. Only 50% of training data is labelled by 4 crowd members with the average reliability of 0.6\n",
    "* iterates one call of the VB_iteration function and one epoch of backpropagated updates for the parameters of a neural network\n",
    "* saves weights of the trained neural network\n",
    "* plots accuracy performance "
   ]
  },
  {
   "cell_type": "markdown",
   "metadata": {},
   "source": [
    "Required import"
   ]
  },
  {
   "cell_type": "code",
   "execution_count": 1,
   "metadata": {},
   "outputs": [],
   "source": [
    "%matplotlib inline"
   ]
  },
  {
   "cell_type": "code",
   "execution_count": 2,
   "metadata": {},
   "outputs": [],
   "source": [
    "import tensorflow as tf\n",
    "import os\n",
    "import numpy as np\n",
    "import matplotlib.pyplot as plt\n",
    "\n",
    "from NNArchitecture.lenet5_mnist import cnn_for_mnist\n",
    "from SyntheticCrowdsourcing.synthetic_crowd_volunteers import generate_volunteer_labels\n",
    "from VariationalInference.VB_iteration import VB_iteration\n",
    "from utils.utils_dataset_processing import shrink_arrays\n",
    "from VariationalInference import confusion_matrix"
   ]
  },
  {
   "cell_type": "markdown",
   "metadata": {},
   "source": [
    "Set random seed"
   ]
  },
  {
   "cell_type": "code",
   "execution_count": 3,
   "metadata": {},
   "outputs": [],
   "source": [
    "rseed = 1000\n",
    "np.random.seed(rseed)\n",
    "tf.set_random_seed(rseed)"
   ]
  },
  {
   "cell_type": "markdown",
   "metadata": {},
   "source": [
    "Parameters"
   ]
  },
  {
   "cell_type": "code",
   "execution_count": 4,
   "metadata": {},
   "outputs": [],
   "source": [
    "n_classes = 10\n",
    "crowdsourced_labelled_train_data_ratio = 0.5 # ratio of train data labelled by crowd members\n",
    "n_crowd_members = 4\n",
    "crowd_member_reliability_level = 0.6\n",
    "confusion_matrix_diagonal_prior = 1e-1\n",
    "n_epoch = 100\n",
    "batch_size = 32\n",
    "convergence_threshold = 1e-6 # convergence is measured as change in ELBO"
   ]
  },
  {
   "cell_type": "markdown",
   "metadata": {},
   "source": [
    "## Load data"
   ]
  },
  {
   "cell_type": "code",
   "execution_count": 5,
   "metadata": {},
   "outputs": [
    {
     "name": "stdout",
     "output_type": "stream",
     "text": [
      "Downloading data from https://storage.googleapis.com/tensorflow/tf-keras-datasets/mnist.npz\n",
      "11493376/11490434 [==============================] - 3s 0us/step\n"
     ]
    }
   ],
   "source": [
    "(x_train, y_train), (x_test, y_test) = tf.keras.datasets.mnist.load_data(path=os.getcwd() + '/mnist.npz')"
   ]
  },
  {
   "cell_type": "markdown",
   "metadata": {},
   "source": [
    "Expand dimensions for images to explicitly have 1 channel"
   ]
  },
  {
   "cell_type": "code",
   "execution_count": 6,
   "metadata": {},
   "outputs": [],
   "source": [
    "x_train = np.expand_dims(x_train, axis=3)\n",
    "x_test = np.expand_dims(x_test, axis=3)"
   ]
  },
  {
   "cell_type": "markdown",
   "metadata": {},
   "source": [
    "Select subsample of train data to be \"labelled\" by crowd members"
   ]
  },
  {
   "cell_type": "code",
   "execution_count": 7,
   "metadata": {},
   "outputs": [],
   "source": [
    "labelled_train, whole_train = shrink_arrays([x_train, y_train], \n",
    "                                            crowdsourced_labelled_train_data_ratio, is_shuffle=True)\n",
    "x_labelled_train = labelled_train[0]\n",
    "y_labelled_train = labelled_train[1]\n",
    "x_train = whole_train[0]\n",
    "y_train = whole_train[1]"
   ]
  },
  {
   "cell_type": "markdown",
   "metadata": {},
   "source": [
    "## Generate synthetic crowdsourced labels"
   ]
  },
  {
   "cell_type": "code",
   "execution_count": 8,
   "metadata": {},
   "outputs": [],
   "source": [
    "crowdsourced_labels = generate_volunteer_labels(n_volunteers=n_crowd_members, n_classes=n_classes, \n",
    "                                                gt_labels=y_labelled_train,\n",
    "                                                n_total_tasks=x_train.shape[0],\n",
    "                                                reliability_level=crowd_member_reliability_level)"
   ]
  },
  {
   "cell_type": "markdown",
   "metadata": {},
   "source": [
    "## Set up a neural network and variational parameters"
   ]
  },
  {
   "cell_type": "code",
   "execution_count": 9,
   "metadata": {},
   "outputs": [
    {
     "name": "stdout",
     "output_type": "stream",
     "text": [
      "WARNING:tensorflow:From /Users/olga/VirtualPython37/lib/python3.7/site-packages/tensorflow/python/ops/resource_variable_ops.py:435: colocate_with (from tensorflow.python.framework.ops) is deprecated and will be removed in a future version.\n",
      "Instructions for updating:\n",
      "Colocations handled automatically by placer.\n",
      "WARNING:tensorflow:From /Users/olga/VirtualPython37/lib/python3.7/site-packages/tensorflow/python/keras/layers/core.py:143: calling dropout (from tensorflow.python.ops.nn_ops) with keep_prob is deprecated and will be removed in a future version.\n",
      "Instructions for updating:\n",
      "Please use `rate` instead of `keep_prob`. Rate should be set to `rate = 1 - keep_prob`.\n",
      "WARNING:tensorflow:From /Users/olga/Documents/GitHub/BCCNet/NNArchitecture/lenet5_mnist.py:5: softmax_cross_entropy_with_logits (from tensorflow.python.ops.nn_ops) is deprecated and will be removed in a future version.\n",
      "Instructions for updating:\n",
      "\n",
      "Future major versions of TensorFlow will allow gradients to flow\n",
      "into the labels input on backprop by default.\n",
      "\n",
      "See `tf.nn.softmax_cross_entropy_with_logits_v2`.\n",
      "\n"
     ]
    }
   ],
   "source": [
    "cnn_model = cnn_for_mnist()"
   ]
  },
  {
   "cell_type": "code",
   "execution_count": 10,
   "metadata": {},
   "outputs": [],
   "source": [
    "prior_param_confusion_matrices = confusion_matrix.initialise_prior(n_classes=n_classes, n_volunteers=n_crowd_members,\n",
    "                                                                   alpha_diag_prior=confusion_matrix_diagonal_prior)\n",
    "variational_param_confusion_matrices = np.copy(prior_param_confusion_matrices)"
   ]
  },
  {
   "cell_type": "markdown",
   "metadata": {},
   "source": [
    "## Initialisation of the approximating posterior of true labels"
   ]
  },
  {
   "cell_type": "markdown",
   "metadata": {},
   "source": [
    "Initial variational inference iteration"
   ]
  },
  {
   "cell_type": "code",
   "execution_count": 11,
   "metadata": {},
   "outputs": [],
   "source": [
    "initial_nn_output_for_vb_update = np.random.randn(x_train.shape[0], n_classes)\n",
    "\n",
    "q_t, variational_param_confusion_matrices, lower_bound = \\\n",
    "    VB_iteration(crowdsourced_labels, initial_nn_output_for_vb_update, variational_param_confusion_matrices,\n",
    "                 prior_param_confusion_matrices)\n",
    "\n",
    "old_lower_bound = lower_bound"
   ]
  },
  {
   "cell_type": "markdown",
   "metadata": {},
   "source": [
    "## Main training cycle"
   ]
  },
  {
   "cell_type": "markdown",
   "metadata": {},
   "source": [
    "Set up evaluation arrays"
   ]
  },
  {
   "cell_type": "code",
   "execution_count": 12,
   "metadata": {},
   "outputs": [],
   "source": [
    "# based on predictions from the neural network\n",
    "nn_training_accuracy = np.zeros((n_epoch,), dtype=np.float64)   \n",
    "# based on approximated posterior for true labels\n",
    "posterior_estimate_training_accuracy = np.zeros((n_epoch,), dtype=np.float64)  \n",
    "# based on predictions from the neural network on test data\n",
    "nn_test_accuracy = np.zeros((n_epoch,), dtype=np.float64)"
   ]
  },
  {
   "cell_type": "markdown",
   "metadata": {},
   "source": [
    "Training cycle"
   ]
  },
  {
   "cell_type": "code",
   "execution_count": 13,
   "metadata": {},
   "outputs": [
    {
     "name": "stdout",
     "output_type": "stream",
     "text": [
      "epoch 0:\n",
      "\t nn training accuracy: 0.099\n",
      "\t posterior estimate training accuracy: 0.43228333333333335\n",
      "\t nn test accuracy: 0.1053\n",
      "epoch 1:\n",
      "\t nn training accuracy: 0.10021666666666666\n",
      "\t posterior estimate training accuracy: 0.43735\n",
      "\t nn test accuracy: 0.1055\n",
      "epoch 2:\n",
      "\t nn training accuracy: 0.1016\n",
      "\t posterior estimate training accuracy: 0.4403666666666667\n",
      "\t nn test accuracy: 0.0979\n",
      "epoch 3:\n",
      "\t nn training accuracy: 0.09891666666666667\n",
      "\t posterior estimate training accuracy: 0.44285\n",
      "\t nn test accuracy: 0.0961\n",
      "epoch 4:\n",
      "\t nn training accuracy: 0.21141666666666667\n",
      "\t posterior estimate training accuracy: 0.5085333333333333\n",
      "\t nn test accuracy: 0.2136\n",
      "epoch 5:\n",
      "\t nn training accuracy: 0.9402166666666667\n",
      "\t posterior estimate training accuracy: 0.9174833333333333\n",
      "\t nn test accuracy: 0.9404\n",
      "epoch 6:\n",
      "\t nn training accuracy: 0.9715\n",
      "\t posterior estimate training accuracy: 0.9477\n",
      "\t nn test accuracy: 0.9712\n",
      "epoch 7:\n",
      "\t nn training accuracy: 0.9800166666666666\n",
      "\t posterior estimate training accuracy: 0.96275\n",
      "\t nn test accuracy: 0.9791\n",
      "epoch 8:\n",
      "\t nn training accuracy: 0.9842333333333333\n",
      "\t posterior estimate training accuracy: 0.9701333333333333\n",
      "\t nn test accuracy: 0.9806\n",
      "epoch 9:\n",
      "\t nn training accuracy: 0.9870333333333333\n",
      "\t posterior estimate training accuracy: 0.9735833333333334\n",
      "\t nn test accuracy: 0.9836\n",
      "epoch 10:\n",
      "\t nn training accuracy: 0.9889\n",
      "\t posterior estimate training accuracy: 0.97585\n",
      "\t nn test accuracy: 0.9841\n",
      "epoch 11:\n",
      "\t nn training accuracy: 0.98895\n",
      "\t posterior estimate training accuracy: 0.9752833333333333\n",
      "\t nn test accuracy: 0.9851\n",
      "epoch 12:\n",
      "\t nn training accuracy: 0.9875166666666667\n",
      "\t posterior estimate training accuracy: 0.9737\n",
      "\t nn test accuracy: 0.9845\n",
      "epoch 13:\n",
      "\t nn training accuracy: 0.9844166666666667\n",
      "\t posterior estimate training accuracy: 0.97095\n",
      "\t nn test accuracy: 0.9838\n",
      "epoch 14:\n",
      "\t nn training accuracy: 0.9804666666666667\n",
      "\t posterior estimate training accuracy: 0.9685666666666667\n",
      "\t nn test accuracy: 0.9833\n",
      "epoch 15:\n",
      "\t nn training accuracy: 0.9755\n",
      "\t posterior estimate training accuracy: 0.9655666666666667\n",
      "\t nn test accuracy: 0.9836\n",
      "epoch 16:\n",
      "\t nn training accuracy: 0.97185\n",
      "\t posterior estimate training accuracy: 0.9637\n",
      "\t nn test accuracy: 0.9831\n",
      "epoch 17:\n",
      "\t nn training accuracy: 0.9672\n",
      "\t posterior estimate training accuracy: 0.96095\n",
      "\t nn test accuracy: 0.9817\n",
      "epoch 18:\n",
      "\t nn training accuracy: 0.9633666666666667\n",
      "\t posterior estimate training accuracy: 0.9592666666666667\n",
      "\t nn test accuracy: 0.9807\n",
      "epoch 19:\n",
      "\t nn training accuracy: 0.9600666666666666\n",
      "\t posterior estimate training accuracy: 0.9567\n",
      "\t nn test accuracy: 0.9797\n",
      "epoch 20:\n",
      "\t nn training accuracy: 0.9579333333333333\n",
      "\t posterior estimate training accuracy: 0.9553\n",
      "\t nn test accuracy: 0.9807\n",
      "epoch 21:\n",
      "\t nn training accuracy: 0.9561166666666666\n",
      "\t posterior estimate training accuracy: 0.9541666666666667\n",
      "\t nn test accuracy: 0.9797\n",
      "epoch 22:\n",
      "\t nn training accuracy: 0.9541166666666666\n",
      "\t posterior estimate training accuracy: 0.9527\n",
      "\t nn test accuracy: 0.9792\n",
      "epoch 23:\n",
      "\t nn training accuracy: 0.9531\n",
      "\t posterior estimate training accuracy: 0.952\n",
      "\t nn test accuracy: 0.9791\n",
      "epoch 24:\n",
      "\t nn training accuracy: 0.9520666666666666\n",
      "\t posterior estimate training accuracy: 0.9512666666666667\n",
      "\t nn test accuracy: 0.9801\n",
      "epoch 25:\n",
      "\t nn training accuracy: 0.9508333333333333\n",
      "\t posterior estimate training accuracy: 0.9500833333333333\n",
      "\t nn test accuracy: 0.9774\n",
      "epoch 26:\n",
      "\t nn training accuracy: 0.9506166666666667\n",
      "\t posterior estimate training accuracy: 0.9500333333333333\n",
      "\t nn test accuracy: 0.9788\n",
      "epoch 27:\n",
      "\t nn training accuracy: 0.9505833333333333\n",
      "\t posterior estimate training accuracy: 0.9500666666666666\n",
      "\t nn test accuracy: 0.9797\n",
      "epoch 28:\n",
      "\t nn training accuracy: 0.9501\n",
      "\t posterior estimate training accuracy: 0.9497166666666667\n",
      "\t nn test accuracy: 0.9786\n",
      "epoch 29:\n",
      "\t nn training accuracy: 0.9503166666666667\n",
      "\t posterior estimate training accuracy: 0.94975\n",
      "\t nn test accuracy: 0.9782\n",
      "epoch 30:\n",
      "\t nn training accuracy: 0.9498333333333333\n",
      "\t posterior estimate training accuracy: 0.9496333333333333\n",
      "\t nn test accuracy: 0.9783\n",
      "epoch 31:\n",
      "\t nn training accuracy: 0.9495166666666667\n",
      "\t posterior estimate training accuracy: 0.9492166666666667\n",
      "\t nn test accuracy: 0.9774\n",
      "epoch 32:\n",
      "\t nn training accuracy: 0.9494666666666667\n",
      "\t posterior estimate training accuracy: 0.94905\n",
      "\t nn test accuracy: 0.9782\n",
      "epoch 33:\n",
      "\t nn training accuracy: 0.94905\n",
      "\t posterior estimate training accuracy: 0.9487833333333333\n",
      "\t nn test accuracy: 0.9791\n",
      "epoch 34:\n",
      "\t nn training accuracy: 0.94895\n",
      "\t posterior estimate training accuracy: 0.94875\n",
      "\t nn test accuracy: 0.9778\n",
      "epoch 35:\n",
      "\t nn training accuracy: 0.9483166666666667\n",
      "\t posterior estimate training accuracy: 0.9480833333333333\n",
      "\t nn test accuracy: 0.9763\n",
      "epoch 36:\n",
      "\t nn training accuracy: 0.9481666666666667\n",
      "\t posterior estimate training accuracy: 0.9480666666666666\n",
      "\t nn test accuracy: 0.9783\n",
      "epoch 37:\n",
      "\t nn training accuracy: 0.9484333333333334\n",
      "\t posterior estimate training accuracy: 0.9481666666666667\n",
      "\t nn test accuracy: 0.9787\n",
      "epoch 38:\n",
      "\t nn training accuracy: 0.9482666666666667\n",
      "\t posterior estimate training accuracy: 0.9480333333333333\n",
      "\t nn test accuracy: 0.9765\n",
      "epoch 39:\n",
      "\t nn training accuracy: 0.94815\n",
      "\t posterior estimate training accuracy: 0.9480166666666666\n",
      "\t nn test accuracy: 0.9777\n",
      "epoch 40:\n",
      "\t nn training accuracy: 0.9480333333333333\n",
      "\t posterior estimate training accuracy: 0.948\n",
      "\t nn test accuracy: 0.9794\n",
      "epoch 41:\n",
      "\t nn training accuracy: 0.9483\n",
      "\t posterior estimate training accuracy: 0.9481833333333334\n",
      "\t nn test accuracy: 0.9784\n",
      "epoch 42:\n",
      "\t nn training accuracy: 0.9485833333333333\n",
      "\t posterior estimate training accuracy: 0.9483\n",
      "\t nn test accuracy: 0.9798\n",
      "epoch 43:\n",
      "\t nn training accuracy: 0.9487\n",
      "\t posterior estimate training accuracy: 0.94855\n",
      "\t nn test accuracy: 0.9793\n",
      "epoch 44:\n",
      "\t nn training accuracy: 0.9483833333333334\n",
      "\t posterior estimate training accuracy: 0.9483166666666667\n",
      "\t nn test accuracy: 0.9769\n",
      "epoch 45:\n",
      "\t nn training accuracy: 0.9483666666666667\n",
      "\t posterior estimate training accuracy: 0.9483\n",
      "\t nn test accuracy: 0.9789\n",
      "epoch 46:\n",
      "\t nn training accuracy: 0.94815\n",
      "\t posterior estimate training accuracy: 0.9481\n",
      "\t nn test accuracy: 0.9765\n"
     ]
    }
   ],
   "source": [
    "for epoch in range(n_epoch):\n",
    "    print(f'epoch {epoch}:')\n",
    "\n",
    "    # update of parameters of the neural network\n",
    "    cnn_model.fit(x_train, q_t, epochs=1, shuffle=True, batch_size=batch_size, verbose=0)\n",
    "\n",
    "    # update of approximating posterior for the true labels and confusion matrices\n",
    "    # get current predictions from a neural network\n",
    "    nn_output_for_vb_update = cnn_model.predict(x_train)\n",
    "    # for numerical stability\n",
    "    nn_output_for_vb_update = nn_output_for_vb_update - \\\n",
    "        np.tile(np.expand_dims(np.max(nn_output_for_vb_update, axis=1), axis=1), \n",
    "                (1, nn_output_for_vb_update.shape[1]))\n",
    "\n",
    "    q_t, variational_param_confusion_matrices, lower_bound = \\\n",
    "        VB_iteration(crowdsourced_labels, nn_output_for_vb_update, variational_param_confusion_matrices,\n",
    "                     prior_param_confusion_matrices)\n",
    "\n",
    "    # evaluation\n",
    "    nn_training_accuracy[epoch] = np.mean(np.argmax(nn_output_for_vb_update, axis=1) == y_train)\n",
    "    print(f'\\t nn training accuracy: {nn_training_accuracy[epoch]}')\n",
    "\n",
    "    posterior_estimate_training_accuracy[epoch] = np.mean(np.argmax(q_t, axis=1) == y_train)\n",
    "    print(f'\\t posterior estimate training accuracy: {posterior_estimate_training_accuracy[epoch]}')\n",
    "\n",
    "    nn_test_prediction = cnn_model.predict(x_test)\n",
    "    nn_test_accuracy[epoch] = np.mean(np.argmax(nn_test_prediction, axis=1) == y_test)\n",
    "    print(f'\\t nn test accuracy: {nn_test_accuracy[epoch]}')\n",
    "\n",
    "    # check convergence\n",
    "    if np.abs((lower_bound - old_lower_bound) / old_lower_bound) < convergence_threshold:\n",
    "        break\n",
    "\n",
    "    old_lower_bound = lower_bound"
   ]
  },
  {
   "cell_type": "markdown",
   "metadata": {},
   "source": [
    "## Output"
   ]
  },
  {
   "cell_type": "markdown",
   "metadata": {},
   "source": [
    "Save weights"
   ]
  },
  {
   "cell_type": "code",
   "execution_count": 14,
   "metadata": {},
   "outputs": [
    {
     "name": "stdout",
     "output_type": "stream",
     "text": [
      "WARNING:tensorflow:This model was compiled with a Keras optimizer (<tensorflow.python.keras.optimizers.Adam object at 0x122757dd8>) but is being saved in TensorFlow format with `save_weights`. The model's weights will be saved, but unlike with TensorFlow optimizers in the TensorFlow format the optimizer's state will not be saved.\n",
      "\n",
      "Consider using a TensorFlow optimizer from `tf.train`.\n",
      "WARNING:tensorflow:From /Users/olga/VirtualPython37/lib/python3.7/site-packages/tensorflow/python/keras/engine/network.py:1436: update_checkpoint_state (from tensorflow.python.training.checkpoint_management) is deprecated and will be removed in a future version.\n",
      "Instructions for updating:\n",
      "Use tf.train.CheckpointManager to manage checkpoints rather than manually editing the Checkpoint proto.\n"
     ]
    }
   ],
   "source": [
    "cnn_model.save_weights(os.getcwd() + '/trained_weights')"
   ]
  },
  {
   "cell_type": "markdown",
   "metadata": {},
   "source": [
    "Plot accuracy performance"
   ]
  },
  {
   "cell_type": "code",
   "execution_count": 15,
   "metadata": {},
   "outputs": [
    {
     "data": {
      "image/png": "[encoded data removed]",
      "text/plain": [
       "<Figure size 432x288 with 1 Axes>"
      ]
     },
     "metadata": {
      "needs_background": "light"
     },
     "output_type": "display_data"
    }
   ],
   "source": [
    "plt.plot(range(epoch), nn_training_accuracy[:epoch], label='nn train')\n",
    "plt.plot(range(epoch), posterior_estimate_training_accuracy[:epoch], label='posterior train')\n",
    "plt.plot(range(epoch), nn_test_accuracy[:epoch], label='nn test')\n",
    "plt.legend()\n",
    "plt.show()"
   ]
  }
 ],
 "metadata": {
  "kernelspec": {
   "display_name": "Python 3",
   "language": "python",
   "name": "python3"
  },
  "language_info": {
   "codemirror_mode": {
    "name": "ipython",
    "version": 3
   },
   "file_extension": ".py",
   "mimetype": "text/x-python",
   "name": "python",
   "nbconvert_exporter": "python",
   "pygments_lexer": "ipython3",
   "version": "3.7.2"
  }
 },
 "nbformat": 4,
 "nbformat_minor": 2
}
